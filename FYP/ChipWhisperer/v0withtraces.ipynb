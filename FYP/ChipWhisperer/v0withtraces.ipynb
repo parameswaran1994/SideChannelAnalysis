{
 "cells": [
  {
   "cell_type": "code",
   "execution_count": null,
   "id": "771692be-321a-482c-b6b6-7d909e7d39a9",
   "metadata": {},
   "outputs": [],
   "source": [
    "import numpy as np\n",
    "import tensorflow as tf\n",
    "import random as python_random\n",
    "from sklearn.model_selection import train_test_split\n",
    "from tensorflow.keras.utils import to_categorical\n",
    "from tensorflow.keras.layers import Conv1D, MaxPooling1D, Flatten, Dense, InputLayer\n",
    "from tensorflow.keras.models import Sequential, load_model\n",
    "import matplotlib.pyplot as plt\n",
    "from tqdm import tqdm\n",
    "import math\n",
    "import random\n",
    "\n",
    "# Seed reset function\n",
    "def reset_random_seeds(seed_value=42):\n",
    "    python_random.seed(seed_value)\n",
    "    np.random.seed(seed_value)\n",
    "    tf.random.set_seed(seed_value)\n",
    "\n",
    "reset_random_seeds()\n",
    "\n",
    "# AES S-box and utility functions\n",
    "AES_Sbox = [\n",
    "    # S-box array\n",
    "    0x63, 0x7c, 0x77, 0x7b, 0xf2, 0x6b, 0x6f, 0xc5, 0x30, 0x01, 0x67, 0x2b, 0xfe, 0xd7, 0xab, 0x76,\n",
    "    0xca, 0x82, 0xc9, 0x7d, 0xfa, 0x59, 0x47, 0xf0, 0xad, 0xd4, 0xa2, 0xaf, 0x9c, 0xa4, 0x72, 0xc0,\n",
    "    0xb7, 0xfd, 0x93, 0x26, 0x36, 0x3f, 0xf7, 0xcc, 0x34, 0xa5, 0xe5, 0xf1, 0x71, 0xd8, 0x31, 0x15,\n",
    "    0x04, 0xc7, 0x23, 0xc3, 0x18, 0x96, 0x05, 0x9a, 0x07, 0x12, 0x80, 0xe2, 0xeb, 0x27, 0xb2, 0x75,\n",
    "    0x09, 0x83, 0x2c, 0x1a, 0x1b, 0x6e, 0x5a, 0xa0, 0x52, 0x3b, 0xd6, 0xb3, 0x29, 0xe3, 0x2f, 0x84,\n",
    "    0x53, 0xd1, 0x00, 0xed, 0x20, 0xfc, 0xb1, 0x5b, 0x6a, 0xcb, 0xbe, 0x39, 0x4a, 0x4c, 0x58, 0xcf,\n",
    "    0xd0, 0xef, 0xaa, 0xfb, 0x43, 0x4d, 0x33, 0x85, 0x45, 0xf9, 0x02, 0x7f, 0x50, 0x3c, 0x9f, 0xa8,\n",
    "    0x51, 0xa3, 0x40, 0x8f, 0x92, 0x9d, 0x38, 0xf5, 0xbc, 0xb6, 0xda, 0x21, 0x10, 0xff, 0xf3, 0xd2,\n",
    "    0xcd, 0x0c, 0x13, 0xec, 0x5f, 0x97, 0x44, 0x17, 0xc4, 0xa7, 0x7e, 0x3d, 0x64, 0x5d, 0x19, 0x73,\n",
    "    0x60, 0x81, 0x4f, 0xdc, 0x22, 0x2a, 0x90, 0x88, 0x46, 0xee, 0xb8, 0x14, 0xde, 0x5e, 0x0b, 0xdb,\n",
    "    0xe0, 0x32, 0x3a, 0x0a, 0x49, 0x06, 0x24, 0x5c, 0xc2, 0xd3, 0xac, 0x62, 0x91, 0x95, 0xe4, 0x79,\n",
    "    0xe7, 0xc8, 0x37, 0x6d, 0x8d, 0xd5, 0x4e, 0xa9, 0x6c, 0x56, 0xf4, 0xea, 0x65, 0x7a, 0xae, 0x08,\n",
    "    0xba, 0x78, 0x25, 0x2e, 0x1c, 0xa6, 0xb4, 0xc6, 0xe8, 0xdd, 0x74, 0x1f, 0x4b, 0xbd, 0x8b, 0x8a,\n",
    "    0x70, 0x3e, 0xb5, 0x66, 0x48, 0x03, 0xf6, 0x0e, 0x61, 0x35, 0x57, 0xb9, 0x86, 0xc1, 0x1d, 0x9e,\n",
    "    0xe1, 0xf8, 0x98, 0x11, 0x69, 0xd9, 0x8e, 0x94, 0x9b, 0x1e, 0x87, 0xe9, 0xce, 0x55, 0x28, 0xdf,\n",
    "    0x8c, 0xa1, 0x89, 0x0d, 0xbf, 0xe6, 0x42, 0x68, 0x41, 0x99, 0x2d, 0x0f, 0xb0, 0x54, 0xbb, 0x16\n",
    "]\n",
    "\n",
    "def Sbox(input_byte):\n",
    "    return AES_Sbox[input_byte]\n",
    "\n",
    "def HW(s):\n",
    "    return bin(s).count(\"1\")\n",
    "\n",
    "AES_Sbox_inv = np.array([\n",
    "    0x52, 0x09, 0x6a, 0xd5, 0x30, 0x36, 0xa5, 0x38, 0xbf, 0x40, 0xa3, 0x9e, 0x81, 0xf3, 0xd7, 0xfb,\n",
    "    0x7c, 0xe3, 0x39, 0x82, 0x9b, 0x2f, 0xff, 0x87, 0x34, 0x8e, 0x43, 0x44, 0xc4, 0xde, 0xe9, 0xcb,\n",
    "    0x54, 0x7b, 0x94, 0x32, 0xa6, 0xc2, 0x23, 0x3d, 0xee, 0x4c, 0x95, 0x0b, 0x42, 0xfa, 0xc3, 0x4e,\n",
    "    0x08, 0x2e, 0xa1, 0x66, 0x28, 0xd9, 0x24, 0xb2, 0x76, 0x5b, 0xa2, 0x49, 0x6d, 0x8b, 0xd1, 0x25,\n",
    "    0x72, 0xf8, 0xf6, 0x64, 0x86, 0x68, 0x98, 0x16, 0xd4, 0xa4, 0x5c, 0xcc, 0x5d, 0x65, 0xb6, 0x92,\n",
    "    0x6c, 0x70, 0x48, 0x50, 0xfd, 0xed, 0xb9, 0xda, 0x5e, 0x15, 0x46, 0x57, 0xa7, 0x8d, 0x9d, 0x84,\n",
    "    0x90, 0xd8, 0xab, 0x00, 0x8c, 0xbc, 0xd3, 0x0a, 0xf7, 0xe4, 0x58, 0x05, 0xb8, 0xb3, 0x45, 0x06,\n",
    "    0xd0, 0x2c, 0x1e, 0x8f, 0xca, 0x3f, 0x0f, 0x02, 0xc1, 0xaf, 0xbd, 0x03, 0x01, 0x13, 0x8a, 0x6b,\n",
    "    0x3a, 0x91, 0x11, 0x41, 0x4f, 0x67, 0xdc, 0xea, 0x97, 0xf2, 0xcf, 0xce, 0xf0, 0xb4, 0xe6, 0x73,\n",
    "    0x96, 0xac, 0x74, 0x22, 0xe7, 0xad, 0x35, 0x85, 0xe2, 0xf9, 0x37, 0xe8, 0x1c, 0x75, 0xdf, 0x6e,\n",
    "    0x47, 0xf1, 0x1a, 0x71, 0x1d, 0x29, 0xc5, 0x89, 0x6f, 0xb7, 0x62, 0x0e, 0xaa, 0x18, 0xbe, 0x1b,\n",
    "    0xfc, 0x56, 0x3e, 0x4b, 0xc6, 0xd2, 0x79, 0x20, 0x9a, 0xdb, 0xc0, 0xfe, 0x78, 0xcd, 0x5a, 0xf4,\n",
    "    0x1f, 0xdd, 0xa8, 0x33, 0x88, 0x07, 0xc7, 0x31, 0xb1, 0x12, 0x10, 0x59, 0x27, 0x80, 0xec, 0x5f,\n",
    "    0x60, 0x51, 0x7f, 0xa9, 0x19, 0xb5, 0x4a, 0x0d, 0x2d, 0xe5, 0x7a, 0x9f, 0x93, 0xc9, 0x9c, 0xef,\n",
    "    0xa0, 0xe0, 0x3b, 0x4d, 0xae, 0x2a, 0xf5, 0xb0, 0xc8, 0xeb, 0xbb, 0x3c, 0x83, 0x53, 0x99, 0x61,\n",
    "    0x17, 0x2b, 0x04, 0x7e, 0xba, 0x77, 0xd6, 0x26, 0xe1, 0x69, 0x14, 0x63, 0x55, 0x21, 0x0c, 0x7d\n",
    "])"
   ]
  },
  {
   "cell_type": "code",
   "execution_count": 4,
   "id": "87e329bf-ddb5-4c47-838e-d60f9a6144de",
   "metadata": {},
   "outputs": [
    {
     "data": {
      "text/html": [
       "<pre style=\"white-space:pre;overflow-x:auto;line-height:normal;font-family:Menlo,'DejaVu Sans Mono',consolas,'Courier New',monospace\"><span style=\"font-weight: bold\">Model: \"sequential_3\"</span>\n",
       "</pre>\n"
      ],
      "text/plain": [
       "\u001b[1mModel: \"sequential_3\"\u001b[0m\n"
      ]
     },
     "metadata": {},
     "output_type": "display_data"
    },
    {
     "data": {
      "text/html": [
       "<pre style=\"white-space:pre;overflow-x:auto;line-height:normal;font-family:Menlo,'DejaVu Sans Mono',consolas,'Courier New',monospace\">┏━━━━━━━━━━━━━━━━━━━━━━━━━━━━━━━━━┳━━━━━━━━━━━━━━━━━━━━━━━━┳━━━━━━━━━━━━━━━┓\n",
       "┃<span style=\"font-weight: bold\"> Layer (type)                    </span>┃<span style=\"font-weight: bold\"> Output Shape           </span>┃<span style=\"font-weight: bold\">       Param # </span>┃\n",
       "┡━━━━━━━━━━━━━━━━━━━━━━━━━━━━━━━━━╇━━━━━━━━━━━━━━━━━━━━━━━━╇━━━━━━━━━━━━━━━┩\n",
       "│ conv1d_6 (<span style=\"color: #0087ff; text-decoration-color: #0087ff\">Conv1D</span>)               │ (<span style=\"color: #00d7ff; text-decoration-color: #00d7ff\">None</span>, <span style=\"color: #00af00; text-decoration-color: #00af00\">4998</span>, <span style=\"color: #00af00; text-decoration-color: #00af00\">32</span>)       │           <span style=\"color: #00af00; text-decoration-color: #00af00\">128</span> │\n",
       "├─────────────────────────────────┼────────────────────────┼───────────────┤\n",
       "│ max_pooling1d_6 (<span style=\"color: #0087ff; text-decoration-color: #0087ff\">MaxPooling1D</span>)  │ (<span style=\"color: #00d7ff; text-decoration-color: #00d7ff\">None</span>, <span style=\"color: #00af00; text-decoration-color: #00af00\">2499</span>, <span style=\"color: #00af00; text-decoration-color: #00af00\">32</span>)       │             <span style=\"color: #00af00; text-decoration-color: #00af00\">0</span> │\n",
       "├─────────────────────────────────┼────────────────────────┼───────────────┤\n",
       "│ conv1d_7 (<span style=\"color: #0087ff; text-decoration-color: #0087ff\">Conv1D</span>)               │ (<span style=\"color: #00d7ff; text-decoration-color: #00d7ff\">None</span>, <span style=\"color: #00af00; text-decoration-color: #00af00\">2497</span>, <span style=\"color: #00af00; text-decoration-color: #00af00\">64</span>)       │         <span style=\"color: #00af00; text-decoration-color: #00af00\">6,208</span> │\n",
       "├─────────────────────────────────┼────────────────────────┼───────────────┤\n",
       "│ max_pooling1d_7 (<span style=\"color: #0087ff; text-decoration-color: #0087ff\">MaxPooling1D</span>)  │ (<span style=\"color: #00d7ff; text-decoration-color: #00d7ff\">None</span>, <span style=\"color: #00af00; text-decoration-color: #00af00\">1248</span>, <span style=\"color: #00af00; text-decoration-color: #00af00\">64</span>)       │             <span style=\"color: #00af00; text-decoration-color: #00af00\">0</span> │\n",
       "├─────────────────────────────────┼────────────────────────┼───────────────┤\n",
       "│ flatten_3 (<span style=\"color: #0087ff; text-decoration-color: #0087ff\">Flatten</span>)             │ (<span style=\"color: #00d7ff; text-decoration-color: #00d7ff\">None</span>, <span style=\"color: #00af00; text-decoration-color: #00af00\">79872</span>)          │             <span style=\"color: #00af00; text-decoration-color: #00af00\">0</span> │\n",
       "├─────────────────────────────────┼────────────────────────┼───────────────┤\n",
       "│ dense_6 (<span style=\"color: #0087ff; text-decoration-color: #0087ff\">Dense</span>)                 │ (<span style=\"color: #00d7ff; text-decoration-color: #00d7ff\">None</span>, <span style=\"color: #00af00; text-decoration-color: #00af00\">64</span>)             │     <span style=\"color: #00af00; text-decoration-color: #00af00\">5,111,872</span> │\n",
       "├─────────────────────────────────┼────────────────────────┼───────────────┤\n",
       "│ dense_7 (<span style=\"color: #0087ff; text-decoration-color: #0087ff\">Dense</span>)                 │ (<span style=\"color: #00d7ff; text-decoration-color: #00d7ff\">None</span>, <span style=\"color: #00af00; text-decoration-color: #00af00\">256</span>)            │        <span style=\"color: #00af00; text-decoration-color: #00af00\">16,640</span> │\n",
       "└─────────────────────────────────┴────────────────────────┴───────────────┘\n",
       "</pre>\n"
      ],
      "text/plain": [
       "┏━━━━━━━━━━━━━━━━━━━━━━━━━━━━━━━━━┳━━━━━━━━━━━━━━━━━━━━━━━━┳━━━━━━━━━━━━━━━┓\n",
       "┃\u001b[1m \u001b[0m\u001b[1mLayer (type)                   \u001b[0m\u001b[1m \u001b[0m┃\u001b[1m \u001b[0m\u001b[1mOutput Shape          \u001b[0m\u001b[1m \u001b[0m┃\u001b[1m \u001b[0m\u001b[1m      Param #\u001b[0m\u001b[1m \u001b[0m┃\n",
       "┡━━━━━━━━━━━━━━━━━━━━━━━━━━━━━━━━━╇━━━━━━━━━━━━━━━━━━━━━━━━╇━━━━━━━━━━━━━━━┩\n",
       "│ conv1d_6 (\u001b[38;5;33mConv1D\u001b[0m)               │ (\u001b[38;5;45mNone\u001b[0m, \u001b[38;5;34m4998\u001b[0m, \u001b[38;5;34m32\u001b[0m)       │           \u001b[38;5;34m128\u001b[0m │\n",
       "├─────────────────────────────────┼────────────────────────┼───────────────┤\n",
       "│ max_pooling1d_6 (\u001b[38;5;33mMaxPooling1D\u001b[0m)  │ (\u001b[38;5;45mNone\u001b[0m, \u001b[38;5;34m2499\u001b[0m, \u001b[38;5;34m32\u001b[0m)       │             \u001b[38;5;34m0\u001b[0m │\n",
       "├─────────────────────────────────┼────────────────────────┼───────────────┤\n",
       "│ conv1d_7 (\u001b[38;5;33mConv1D\u001b[0m)               │ (\u001b[38;5;45mNone\u001b[0m, \u001b[38;5;34m2497\u001b[0m, \u001b[38;5;34m64\u001b[0m)       │         \u001b[38;5;34m6,208\u001b[0m │\n",
       "├─────────────────────────────────┼────────────────────────┼───────────────┤\n",
       "│ max_pooling1d_7 (\u001b[38;5;33mMaxPooling1D\u001b[0m)  │ (\u001b[38;5;45mNone\u001b[0m, \u001b[38;5;34m1248\u001b[0m, \u001b[38;5;34m64\u001b[0m)       │             \u001b[38;5;34m0\u001b[0m │\n",
       "├─────────────────────────────────┼────────────────────────┼───────────────┤\n",
       "│ flatten_3 (\u001b[38;5;33mFlatten\u001b[0m)             │ (\u001b[38;5;45mNone\u001b[0m, \u001b[38;5;34m79872\u001b[0m)          │             \u001b[38;5;34m0\u001b[0m │\n",
       "├─────────────────────────────────┼────────────────────────┼───────────────┤\n",
       "│ dense_6 (\u001b[38;5;33mDense\u001b[0m)                 │ (\u001b[38;5;45mNone\u001b[0m, \u001b[38;5;34m64\u001b[0m)             │     \u001b[38;5;34m5,111,872\u001b[0m │\n",
       "├─────────────────────────────────┼────────────────────────┼───────────────┤\n",
       "│ dense_7 (\u001b[38;5;33mDense\u001b[0m)                 │ (\u001b[38;5;45mNone\u001b[0m, \u001b[38;5;34m256\u001b[0m)            │        \u001b[38;5;34m16,640\u001b[0m │\n",
       "└─────────────────────────────────┴────────────────────────┴───────────────┘\n"
      ]
     },
     "metadata": {},
     "output_type": "display_data"
    },
    {
     "data": {
      "text/html": [
       "<pre style=\"white-space:pre;overflow-x:auto;line-height:normal;font-family:Menlo,'DejaVu Sans Mono',consolas,'Courier New',monospace\"><span style=\"font-weight: bold\"> Total params: </span><span style=\"color: #00af00; text-decoration-color: #00af00\">5,134,848</span> (19.59 MB)\n",
       "</pre>\n"
      ],
      "text/plain": [
       "\u001b[1m Total params: \u001b[0m\u001b[38;5;34m5,134,848\u001b[0m (19.59 MB)\n"
      ]
     },
     "metadata": {},
     "output_type": "display_data"
    },
    {
     "data": {
      "text/html": [
       "<pre style=\"white-space:pre;overflow-x:auto;line-height:normal;font-family:Menlo,'DejaVu Sans Mono',consolas,'Courier New',monospace\"><span style=\"font-weight: bold\"> Trainable params: </span><span style=\"color: #00af00; text-decoration-color: #00af00\">5,134,848</span> (19.59 MB)\n",
       "</pre>\n"
      ],
      "text/plain": [
       "\u001b[1m Trainable params: \u001b[0m\u001b[38;5;34m5,134,848\u001b[0m (19.59 MB)\n"
      ]
     },
     "metadata": {},
     "output_type": "display_data"
    },
    {
     "data": {
      "text/html": [
       "<pre style=\"white-space:pre;overflow-x:auto;line-height:normal;font-family:Menlo,'DejaVu Sans Mono',consolas,'Courier New',monospace\"><span style=\"font-weight: bold\"> Non-trainable params: </span><span style=\"color: #00af00; text-decoration-color: #00af00\">0</span> (0.00 B)\n",
       "</pre>\n"
      ],
      "text/plain": [
       "\u001b[1m Non-trainable params: \u001b[0m\u001b[38;5;34m0\u001b[0m (0.00 B)\n"
      ]
     },
     "metadata": {},
     "output_type": "display_data"
    },
    {
     "name": "stdout",
     "output_type": "stream",
     "text": [
      "Epoch 1/50\n",
      "\u001b[1m188/188\u001b[0m \u001b[32m━━━━━━━━━━━━━━━━━━━━\u001b[0m\u001b[37m\u001b[0m \u001b[1m26s\u001b[0m 133ms/step - accuracy: 0.0057 - loss: 5.5503 - val_accuracy: 0.0055 - val_loss: 5.5453\n",
      "Epoch 2/50\n",
      "\u001b[1m188/188\u001b[0m \u001b[32m━━━━━━━━━━━━━━━━━━━━\u001b[0m\u001b[37m\u001b[0m \u001b[1m24s\u001b[0m 125ms/step - accuracy: 0.0051 - loss: 5.5418 - val_accuracy: 0.0035 - val_loss: 5.5457\n",
      "Epoch 3/50\n",
      "\u001b[1m188/188\u001b[0m \u001b[32m━━━━━━━━━━━━━━━━━━━━\u001b[0m\u001b[37m\u001b[0m \u001b[1m41s\u001b[0m 127ms/step - accuracy: 0.0058 - loss: 5.5386 - val_accuracy: 0.0055 - val_loss: 5.5462\n",
      "Epoch 4/50\n",
      "\u001b[1m188/188\u001b[0m \u001b[32m━━━━━━━━━━━━━━━━━━━━\u001b[0m\u001b[37m\u001b[0m \u001b[1m41s\u001b[0m 127ms/step - accuracy: 0.0054 - loss: 5.5358 - val_accuracy: 0.0055 - val_loss: 5.5462\n",
      "Epoch 5/50\n",
      "\u001b[1m188/188\u001b[0m \u001b[32m━━━━━━━━━━━━━━━━━━━━\u001b[0m\u001b[37m\u001b[0m \u001b[1m42s\u001b[0m 134ms/step - accuracy: 0.0064 - loss: 5.5370 - val_accuracy: 0.0055 - val_loss: 5.5468\n",
      "Epoch 6/50\n",
      "\u001b[1m188/188\u001b[0m \u001b[32m━━━━━━━━━━━━━━━━━━━━\u001b[0m\u001b[37m\u001b[0m \u001b[1m41s\u001b[0m 135ms/step - accuracy: 0.0064 - loss: 5.5356 - val_accuracy: 0.0055 - val_loss: 5.5474\n",
      "Epoch 7/50\n",
      "\u001b[1m188/188\u001b[0m \u001b[32m━━━━━━━━━━━━━━━━━━━━\u001b[0m\u001b[37m\u001b[0m \u001b[1m41s\u001b[0m 136ms/step - accuracy: 0.0064 - loss: 5.5343 - val_accuracy: 0.0055 - val_loss: 5.5480\n",
      "Epoch 8/50\n",
      "\u001b[1m188/188\u001b[0m \u001b[32m━━━━━━━━━━━━━━━━━━━━\u001b[0m\u001b[37m\u001b[0m \u001b[1m25s\u001b[0m 134ms/step - accuracy: 0.0064 - loss: 5.5333 - val_accuracy: 0.0055 - val_loss: 5.5487\n",
      "Epoch 9/50\n",
      "\u001b[1m188/188\u001b[0m \u001b[32m━━━━━━━━━━━━━━━━━━━━\u001b[0m\u001b[37m\u001b[0m \u001b[1m25s\u001b[0m 132ms/step - accuracy: 0.0064 - loss: 5.5323 - val_accuracy: 0.0055 - val_loss: 5.5494\n",
      "Epoch 10/50\n",
      "\u001b[1m188/188\u001b[0m \u001b[32m━━━━━━━━━━━━━━━━━━━━\u001b[0m\u001b[37m\u001b[0m \u001b[1m41s\u001b[0m 133ms/step - accuracy: 0.0064 - loss: 5.5315 - val_accuracy: 0.0055 - val_loss: 5.5501\n",
      "Epoch 11/50\n",
      "\u001b[1m188/188\u001b[0m \u001b[32m━━━━━━━━━━━━━━━━━━━━\u001b[0m\u001b[37m\u001b[0m \u001b[1m41s\u001b[0m 132ms/step - accuracy: 0.0064 - loss: 5.5308 - val_accuracy: 0.0055 - val_loss: 5.5508\n",
      "Epoch 12/50\n",
      "\u001b[1m188/188\u001b[0m \u001b[32m━━━━━━━━━━━━━━━━━━━━\u001b[0m\u001b[37m\u001b[0m \u001b[1m41s\u001b[0m 131ms/step - accuracy: 0.0064 - loss: 5.5302 - val_accuracy: 0.0055 - val_loss: 5.5515\n",
      "Epoch 13/50\n",
      "\u001b[1m188/188\u001b[0m \u001b[32m━━━━━━━━━━━━━━━━━━━━\u001b[0m\u001b[37m\u001b[0m \u001b[1m42s\u001b[0m 135ms/step - accuracy: 0.0064 - loss: 5.5297 - val_accuracy: 0.0055 - val_loss: 5.5522\n",
      "Epoch 14/50\n",
      "\u001b[1m188/188\u001b[0m \u001b[32m━━━━━━━━━━━━━━━━━━━━\u001b[0m\u001b[37m\u001b[0m \u001b[1m26s\u001b[0m 136ms/step - accuracy: 0.0064 - loss: 5.5292 - val_accuracy: 0.0055 - val_loss: 5.5529\n",
      "Epoch 15/50\n",
      "\u001b[1m188/188\u001b[0m \u001b[32m━━━━━━━━━━━━━━━━━━━━\u001b[0m\u001b[37m\u001b[0m \u001b[1m41s\u001b[0m 138ms/step - accuracy: 0.0064 - loss: 5.5288 - val_accuracy: 0.0055 - val_loss: 5.5535\n",
      "Epoch 16/50\n",
      "\u001b[1m188/188\u001b[0m \u001b[32m━━━━━━━━━━━━━━━━━━━━\u001b[0m\u001b[37m\u001b[0m \u001b[1m25s\u001b[0m 134ms/step - accuracy: 0.0064 - loss: 5.5284 - val_accuracy: 0.0055 - val_loss: 5.5542\n",
      "Epoch 17/50\n",
      "\u001b[1m188/188\u001b[0m \u001b[32m━━━━━━━━━━━━━━━━━━━━\u001b[0m\u001b[37m\u001b[0m \u001b[1m41s\u001b[0m 132ms/step - accuracy: 0.0064 - loss: 5.5281 - val_accuracy: 0.0055 - val_loss: 5.5548\n",
      "Epoch 18/50\n",
      "\u001b[1m188/188\u001b[0m \u001b[32m━━━━━━━━━━━━━━━━━━━━\u001b[0m\u001b[37m\u001b[0m \u001b[1m40s\u001b[0m 125ms/step - accuracy: 0.0064 - loss: 5.5279 - val_accuracy: 0.0055 - val_loss: 5.5554\n",
      "Epoch 19/50\n",
      "\u001b[1m188/188\u001b[0m \u001b[32m━━━━━━━━━━━━━━━━━━━━\u001b[0m\u001b[37m\u001b[0m \u001b[1m42s\u001b[0m 133ms/step - accuracy: 0.0064 - loss: 5.5277 - val_accuracy: 0.0055 - val_loss: 5.5560\n",
      "Epoch 20/50\n",
      "\u001b[1m188/188\u001b[0m \u001b[32m━━━━━━━━━━━━━━━━━━━━\u001b[0m\u001b[37m\u001b[0m \u001b[1m25s\u001b[0m 133ms/step - accuracy: 0.0064 - loss: 5.5275 - val_accuracy: 0.0055 - val_loss: 5.5565\n",
      "Epoch 21/50\n",
      "\u001b[1m188/188\u001b[0m \u001b[32m━━━━━━━━━━━━━━━━━━━━\u001b[0m\u001b[37m\u001b[0m \u001b[1m40s\u001b[0m 131ms/step - accuracy: 0.0064 - loss: 5.5273 - val_accuracy: 0.0055 - val_loss: 5.5571\n",
      "Epoch 22/50\n",
      "\u001b[1m188/188\u001b[0m \u001b[32m━━━━━━━━━━━━━━━━━━━━\u001b[0m\u001b[37m\u001b[0m \u001b[1m42s\u001b[0m 137ms/step - accuracy: 0.0064 - loss: 5.5271 - val_accuracy: 0.0055 - val_loss: 5.5576\n",
      "Epoch 23/50\n",
      "\u001b[1m188/188\u001b[0m \u001b[32m━━━━━━━━━━━━━━━━━━━━\u001b[0m\u001b[37m\u001b[0m \u001b[1m25s\u001b[0m 133ms/step - accuracy: 0.0064 - loss: 5.5270 - val_accuracy: 0.0055 - val_loss: 5.5581\n",
      "Epoch 24/50\n",
      "\u001b[1m188/188\u001b[0m \u001b[32m━━━━━━━━━━━━━━━━━━━━\u001b[0m\u001b[37m\u001b[0m \u001b[1m42s\u001b[0m 138ms/step - accuracy: 0.0064 - loss: 5.5269 - val_accuracy: 0.0055 - val_loss: 5.5585\n",
      "Epoch 25/50\n",
      "\u001b[1m188/188\u001b[0m \u001b[32m━━━━━━━━━━━━━━━━━━━━\u001b[0m\u001b[37m\u001b[0m \u001b[1m33s\u001b[0m 177ms/step - accuracy: 0.0064 - loss: 5.5268 - val_accuracy: 0.0055 - val_loss: 5.5590\n",
      "Epoch 26/50\n",
      "\u001b[1m188/188\u001b[0m \u001b[32m━━━━━━━━━━━━━━━━━━━━\u001b[0m\u001b[37m\u001b[0m \u001b[1m29s\u001b[0m 156ms/step - accuracy: 0.0064 - loss: 5.5267 - val_accuracy: 0.0055 - val_loss: 5.5594\n",
      "Epoch 27/50\n",
      "\u001b[1m188/188\u001b[0m \u001b[32m━━━━━━━━━━━━━━━━━━━━\u001b[0m\u001b[37m\u001b[0m \u001b[1m38s\u001b[0m 141ms/step - accuracy: 0.0064 - loss: 5.5266 - val_accuracy: 0.0055 - val_loss: 5.5598\n",
      "Epoch 28/50\n",
      "\u001b[1m188/188\u001b[0m \u001b[32m━━━━━━━━━━━━━━━━━━━━\u001b[0m\u001b[37m\u001b[0m \u001b[1m41s\u001b[0m 140ms/step - accuracy: 0.0064 - loss: 5.5266 - val_accuracy: 0.0055 - val_loss: 5.5602\n",
      "Epoch 29/50\n",
      "\u001b[1m188/188\u001b[0m \u001b[32m━━━━━━━━━━━━━━━━━━━━\u001b[0m\u001b[37m\u001b[0m \u001b[1m40s\u001b[0m 137ms/step - accuracy: 0.0064 - loss: 5.5265 - val_accuracy: 0.0055 - val_loss: 5.5605\n",
      "Epoch 30/50\n",
      "\u001b[1m188/188\u001b[0m \u001b[32m━━━━━━━━━━━━━━━━━━━━\u001b[0m\u001b[37m\u001b[0m \u001b[1m42s\u001b[0m 140ms/step - accuracy: 0.0064 - loss: 5.5265 - val_accuracy: 0.0055 - val_loss: 5.5609\n",
      "Epoch 31/50\n",
      "\u001b[1m188/188\u001b[0m \u001b[32m━━━━━━━━━━━━━━━━━━━━\u001b[0m\u001b[37m\u001b[0m \u001b[1m40s\u001b[0m 134ms/step - accuracy: 0.0064 - loss: 5.5264 - val_accuracy: 0.0055 - val_loss: 5.5612\n",
      "Epoch 32/50\n",
      "\u001b[1m188/188\u001b[0m \u001b[32m━━━━━━━━━━━━━━━━━━━━\u001b[0m\u001b[37m\u001b[0m \u001b[1m40s\u001b[0m 132ms/step - accuracy: 0.0064 - loss: 5.5264 - val_accuracy: 0.0055 - val_loss: 5.5615\n",
      "Epoch 33/50\n",
      "\u001b[1m188/188\u001b[0m \u001b[32m━━━━━━━━━━━━━━━━━━━━\u001b[0m\u001b[37m\u001b[0m \u001b[1m42s\u001b[0m 136ms/step - accuracy: 0.0064 - loss: 5.5264 - val_accuracy: 0.0055 - val_loss: 5.5618\n",
      "Epoch 34/50\n",
      "\u001b[1m188/188\u001b[0m \u001b[32m━━━━━━━━━━━━━━━━━━━━\u001b[0m\u001b[37m\u001b[0m \u001b[1m27s\u001b[0m 141ms/step - accuracy: 0.0064 - loss: 5.5264 - val_accuracy: 0.0055 - val_loss: 5.5621\n",
      "Epoch 35/50\n",
      "\u001b[1m188/188\u001b[0m \u001b[32m━━━━━━━━━━━━━━━━━━━━\u001b[0m\u001b[37m\u001b[0m \u001b[1m24s\u001b[0m 129ms/step - accuracy: 0.0064 - loss: 5.5263 - val_accuracy: 0.0055 - val_loss: 5.5623\n",
      "Epoch 36/50\n",
      "\u001b[1m188/188\u001b[0m \u001b[32m━━━━━━━━━━━━━━━━━━━━\u001b[0m\u001b[37m\u001b[0m \u001b[1m38s\u001b[0m 114ms/step - accuracy: 0.0064 - loss: 5.5263 - val_accuracy: 0.0055 - val_loss: 5.5626\n",
      "Epoch 37/50\n",
      "\u001b[1m188/188\u001b[0m \u001b[32m━━━━━━━━━━━━━━━━━━━━\u001b[0m\u001b[37m\u001b[0m \u001b[1m44s\u001b[0m 129ms/step - accuracy: 0.0064 - loss: 5.5263 - val_accuracy: 0.0055 - val_loss: 5.5628\n",
      "Epoch 38/50\n",
      "\u001b[1m188/188\u001b[0m \u001b[32m━━━━━━━━━━━━━━━━━━━━\u001b[0m\u001b[37m\u001b[0m \u001b[1m47s\u001b[0m 159ms/step - accuracy: 0.0064 - loss: 5.5263 - val_accuracy: 0.0055 - val_loss: 5.5630\n",
      "Epoch 39/50\n",
      "\u001b[1m188/188\u001b[0m \u001b[32m━━━━━━━━━━━━━━━━━━━━\u001b[0m\u001b[37m\u001b[0m \u001b[1m29s\u001b[0m 154ms/step - accuracy: 0.0064 - loss: 5.5263 - val_accuracy: 0.0055 - val_loss: 5.5632\n",
      "Epoch 40/50\n",
      "\u001b[1m188/188\u001b[0m \u001b[32m━━━━━━━━━━━━━━━━━━━━\u001b[0m\u001b[37m\u001b[0m \u001b[1m35s\u001b[0m 124ms/step - accuracy: 0.0064 - loss: 5.5263 - val_accuracy: 0.0055 - val_loss: 5.5634\n",
      "Epoch 41/50\n",
      "\u001b[1m188/188\u001b[0m \u001b[32m━━━━━━━━━━━━━━━━━━━━\u001b[0m\u001b[37m\u001b[0m \u001b[1m24s\u001b[0m 126ms/step - accuracy: 0.0064 - loss: 5.5263 - val_accuracy: 0.0055 - val_loss: 5.5636\n",
      "Epoch 42/50\n",
      "\u001b[1m188/188\u001b[0m \u001b[32m━━━━━━━━━━━━━━━━━━━━\u001b[0m\u001b[37m\u001b[0m \u001b[1m40s\u001b[0m 123ms/step - accuracy: 0.0064 - loss: 5.5263 - val_accuracy: 0.0055 - val_loss: 5.5638\n",
      "Epoch 43/50\n",
      "\u001b[1m188/188\u001b[0m \u001b[32m━━━━━━━━━━━━━━━━━━━━\u001b[0m\u001b[37m\u001b[0m \u001b[1m23s\u001b[0m 124ms/step - accuracy: 0.0064 - loss: 5.5263 - val_accuracy: 0.0055 - val_loss: 5.5639\n",
      "Epoch 44/50\n",
      "\u001b[1m188/188\u001b[0m \u001b[32m━━━━━━━━━━━━━━━━━━━━\u001b[0m\u001b[37m\u001b[0m \u001b[1m41s\u001b[0m 123ms/step - accuracy: 0.0064 - loss: 5.5263 - val_accuracy: 0.0055 - val_loss: 5.5641\n",
      "Epoch 45/50\n",
      "\u001b[1m188/188\u001b[0m \u001b[32m━━━━━━━━━━━━━━━━━━━━\u001b[0m\u001b[37m\u001b[0m \u001b[1m40s\u001b[0m 116ms/step - accuracy: 0.0064 - loss: 5.5262 - val_accuracy: 0.0055 - val_loss: 5.5642\n",
      "Epoch 46/50\n",
      "\u001b[1m188/188\u001b[0m \u001b[32m━━━━━━━━━━━━━━━━━━━━\u001b[0m\u001b[37m\u001b[0m \u001b[1m41s\u001b[0m 117ms/step - accuracy: 0.0064 - loss: 5.5262 - val_accuracy: 0.0055 - val_loss: 5.5644\n",
      "Epoch 47/50\n",
      "\u001b[1m188/188\u001b[0m \u001b[32m━━━━━━━━━━━━━━━━━━━━\u001b[0m\u001b[37m\u001b[0m \u001b[1m23s\u001b[0m 120ms/step - accuracy: 0.0064 - loss: 5.5262 - val_accuracy: 0.0055 - val_loss: 5.5645\n",
      "Epoch 48/50\n",
      "\u001b[1m188/188\u001b[0m \u001b[32m━━━━━━━━━━━━━━━━━━━━\u001b[0m\u001b[37m\u001b[0m \u001b[1m40s\u001b[0m 116ms/step - accuracy: 0.0064 - loss: 5.5262 - val_accuracy: 0.0055 - val_loss: 5.5646\n",
      "Epoch 49/50\n",
      "\u001b[1m188/188\u001b[0m \u001b[32m━━━━━━━━━━━━━━━━━━━━\u001b[0m\u001b[37m\u001b[0m \u001b[1m42s\u001b[0m 122ms/step - accuracy: 0.0064 - loss: 5.5262 - val_accuracy: 0.0055 - val_loss: 5.5647\n",
      "Epoch 50/50\n",
      "\u001b[1m188/188\u001b[0m \u001b[32m━━━━━━━━━━━━━━━━━━━━\u001b[0m\u001b[37m\u001b[0m \u001b[1m22s\u001b[0m 117ms/step - accuracy: 0.0064 - loss: 5.5262 - val_accuracy: 0.0055 - val_loss: 5.5648\n",
      "\u001b[1m63/63\u001b[0m \u001b[32m━━━━━━━━━━━━━━━━━━━━\u001b[0m\u001b[37m\u001b[0m \u001b[1m2s\u001b[0m 38ms/step\n",
      "Attack set accuracy: 0.002\n"
     ]
    }
   ],
   "source": [
    "# Load the data\n",
    "num_traces = 10000\n",
    "trace_length = 5000\n",
    "leakage = \"ID\"  # \"HW\" or \"ID\"\n",
    "chipwhisper_folder = '/home/localuserplr/Documents/FYP/chipwhisperer/'\n",
    "\n",
    "X = np.load(chipwhisper_folder + 'traces.npy')[:num_traces]\n",
    "y = np.load(chipwhisper_folder + 'labels.npy')[:num_traces]\n",
    "plaintexts = np.load(chipwhisper_folder + 'plain.npy')[:num_traces]\n",
    "keys = np.load(chipwhisper_folder + 'key.npy')[:num_traces]\n",
    "\n",
    "# Reshape X to match the input shape expected by Conv1D\n",
    "X = X.reshape((X.shape[0], X.shape[1], 1))\n",
    "\n",
    "# Split the data into training+validation (80%) and attack (20%) sets\n",
    "X_train_val, X_attack, y_train_val, y_attack, plaintexts_train_val, plaintexts_attack = train_test_split(\n",
    "    X, y, plaintexts, test_size=0.2, random_state=42\n",
    ")\n",
    "\n",
    "# Split the training+validation data into training and validation sets\n",
    "X_train, X_val, y_train, y_val = train_test_split(X_train_val, y_train_val, test_size=0.25, random_state=42)\n",
    "\n",
    "# Convert y_train and y_val to categorical\n",
    "num_classes = 256  # Since you're using an 8-bit S-box, there are 256 possible output values\n",
    "y_train_categorical = tf.keras.utils.to_categorical(y_train, num_classes)\n",
    "y_val_categorical = tf.keras.utils.to_categorical(y_val, num_classes)\n",
    "\n",
    "# Define the model\n",
    "model = Sequential()\n",
    "model.add(InputLayer(input_shape=(trace_length, 1)))\n",
    "model.add(Conv1D(filters=32, kernel_size=3, activation='relu'))\n",
    "model.add(MaxPooling1D(pool_size=2))\n",
    "model.add(Conv1D(filters=64, kernel_size=3, activation='relu'))\n",
    "model.add(MaxPooling1D(pool_size=2))\n",
    "model.add(Flatten())\n",
    "model.add(Dense(64, activation='relu'))\n",
    "model.add(Dense(256, activation='softmax'))  # Output layer for 8-bit S-box predictions\n",
    "\n",
    "model.compile(optimizer='adam', loss='categorical_crossentropy', metrics=['accuracy'])\n",
    "\n",
    "# Display the model summary to verify the shapes\n",
    "model.summary()\n",
    "\n",
    "# Train the model with a reduced batch size to manage memory usage\n",
    "history = model.fit(X_train, y_train_categorical, epochs=50, validation_data=(X_val, y_val_categorical), batch_size=32)\n",
    "\n",
    "# Predictions on the attack set\n",
    "predictions = model.predict(X_attack)\n",
    "predicted_classes = np.argmax(predictions, axis=1)\n",
    "accuracy = np.mean(predicted_classes == y_attack)\n",
    "print(f\"Attack set accuracy: {accuracy}\")"
   ]
  },
  {
   "cell_type": "code",
   "execution_count": 13,
   "id": "eb45286e-d83e-4138-bde3-63fa192a302d",
   "metadata": {},
   "outputs": [
    {
     "name": "stderr",
     "output_type": "stream",
     "text": [
      "  0%|                                                   | 0/100 [00:00<?, ?it/s]"
     ]
    },
    {
     "name": "stdout",
     "output_type": "stream",
     "text": [
      "att_plt shape: (1000, 16)\n",
      "att_plt sample: [ 91  53  77 135 231  57 236  60  76 142 231 226 185  79  22  74]\n"
     ]
    },
    {
     "name": "stderr",
     "output_type": "stream",
     "text": [
      "  1%|▍                                          | 1/100 [00:00<00:22,  4.47it/s]"
     ]
    },
    {
     "name": "stdout",
     "output_type": "stream",
     "text": [
      "att_plt shape: (1000, 16)\n",
      "att_plt sample: [137 161 208 127 161  12 198 246 116 188 243 152 109 215 240  65]\n"
     ]
    },
    {
     "name": "stderr",
     "output_type": "stream",
     "text": [
      "  2%|▊                                          | 2/100 [00:00<00:24,  4.03it/s]"
     ]
    },
    {
     "name": "stdout",
     "output_type": "stream",
     "text": [
      "att_plt shape: (1000, 16)\n",
      "att_plt sample: [ 29  15 161 173  87 160  11 133 218 119 222 205 226 255  26 121]\n"
     ]
    },
    {
     "name": "stderr",
     "output_type": "stream",
     "text": [
      "  4%|█▋                                         | 4/100 [00:00<00:21,  4.53it/s]"
     ]
    },
    {
     "name": "stdout",
     "output_type": "stream",
     "text": [
      "att_plt shape: (1000, 16)\n",
      "att_plt sample: [ 99 140 173 238 248 243 159   5  56  77 239  80 241 207 224 177]\n",
      "att_plt shape: (1000, 16)\n",
      "att_plt sample: [119  55 183  20 188 102 158 177 183  50 172  36  54  36 255 106]\n"
     ]
    },
    {
     "name": "stderr",
     "output_type": "stream",
     "text": [
      "  6%|██▌                                        | 6/100 [00:01<00:18,  5.12it/s]"
     ]
    },
    {
     "name": "stdout",
     "output_type": "stream",
     "text": [
      "att_plt shape: (1000, 16)\n",
      "att_plt sample: [178 146 244 157  61 139 242   5 169   2   1 166   1   4 249  33]\n",
      "att_plt shape: (1000, 16)\n",
      "att_plt sample: [244  66  68  37 132 225 214 111  11  34 153 117 197  47 164  87]\n"
     ]
    },
    {
     "name": "stderr",
     "output_type": "stream",
     "text": [
      "  8%|███▍                                       | 8/100 [00:01<00:16,  5.51it/s]"
     ]
    },
    {
     "name": "stdout",
     "output_type": "stream",
     "text": [
      "att_plt shape: (1000, 16)\n",
      "att_plt sample: [187 156  34  77 189 114   0  71 140   2  22 134  47 122 152  15]\n",
      "att_plt shape: (1000, 16)\n",
      "att_plt sample: [226 230 182  75 238  87 138 227 103 196  58 196 218 200  40 115]\n"
     ]
    },
    {
     "name": "stderr",
     "output_type": "stream",
     "text": [
      " 10%|████▏                                     | 10/100 [00:01<00:15,  5.66it/s]"
     ]
    },
    {
     "name": "stdout",
     "output_type": "stream",
     "text": [
      "att_plt shape: (1000, 16)\n",
      "att_plt sample: [189 250 104 125 197 206   8  61 181 157  57 250 140 136   8 124]\n",
      "att_plt shape: (1000, 16)\n",
      "att_plt sample: [196 130 150  36  75  40  39 229 152 117 241 128 105 185 117 116]\n"
     ]
    },
    {
     "name": "stderr",
     "output_type": "stream",
     "text": [
      " 12%|█████                                     | 12/100 [00:02<00:15,  5.78it/s]"
     ]
    },
    {
     "name": "stdout",
     "output_type": "stream",
     "text": [
      "att_plt shape: (1000, 16)\n",
      "att_plt sample: [140 206 103 141  40 164  53  90  10 161 225  38 129 165  56 182]\n",
      "att_plt shape: (1000, 16)\n",
      "att_plt sample: [ 94  22  84  98 125  28 122  85  80  50 155 141 171  53 239 159]\n"
     ]
    },
    {
     "name": "stderr",
     "output_type": "stream",
     "text": [
      " 14%|█████▉                                    | 14/100 [00:02<00:15,  5.60it/s]"
     ]
    },
    {
     "name": "stdout",
     "output_type": "stream",
     "text": [
      "att_plt shape: (1000, 16)\n",
      "att_plt sample: [179 188 110  34  70  93 124  75 207 104 224 191 217 147  31 199]\n",
      "att_plt shape: (1000, 16)\n",
      "att_plt sample: [195   8  73  47 144 200 147  71  38 103  98 166 211 234 218 229]\n"
     ]
    },
    {
     "name": "stderr",
     "output_type": "stream",
     "text": [
      " 16%|██████▋                                   | 16/100 [00:03<00:14,  5.61it/s]"
     ]
    },
    {
     "name": "stdout",
     "output_type": "stream",
     "text": [
      "att_plt shape: (1000, 16)\n",
      "att_plt sample: [234  31 229 250  63  20 249 119 115 194  11 179 148  10 169  58]\n",
      "att_plt shape: (1000, 16)\n",
      "att_plt sample: [ 16 118 219  41 182   0 191  11 141  86  20  28  85  67  22 123]\n"
     ]
    },
    {
     "name": "stderr",
     "output_type": "stream",
     "text": [
      " 18%|███████▌                                  | 18/100 [00:03<00:14,  5.73it/s]"
     ]
    },
    {
     "name": "stdout",
     "output_type": "stream",
     "text": [
      "att_plt shape: (1000, 16)\n",
      "att_plt sample: [203 103 148  87 249  98 140 218 196  96 153 194  17 153 211 140]\n",
      "att_plt shape: (1000, 16)\n",
      "att_plt sample: [233 219  69 180 223  70   7   9 165  95  18 184 183  20 239  84]\n"
     ]
    },
    {
     "name": "stderr",
     "output_type": "stream",
     "text": [
      " 20%|████████▍                                 | 20/100 [00:03<00:13,  5.81it/s]"
     ]
    },
    {
     "name": "stdout",
     "output_type": "stream",
     "text": [
      "att_plt shape: (1000, 16)\n",
      "att_plt sample: [232 167  57   5  73  68 228  24  79  40 195  55 248 249 242  38]\n",
      "att_plt shape: (1000, 16)\n",
      "att_plt sample: [161  15 237 166  79 125  84 227 100  66  22  21 133  81  61 123]\n"
     ]
    },
    {
     "name": "stderr",
     "output_type": "stream",
     "text": [
      " 22%|█████████▏                                | 22/100 [00:04<00:14,  5.55it/s]"
     ]
    },
    {
     "name": "stdout",
     "output_type": "stream",
     "text": [
      "att_plt shape: (1000, 16)\n",
      "att_plt sample: [186 175  65 151  38  72 216 132  95 213   3 112 103 163 131 177]\n",
      "att_plt shape: (1000, 16)\n",
      "att_plt sample: [109 242  89 152 174 170 232  17  94 215 154 207  38 209  73   5]\n"
     ]
    },
    {
     "name": "stderr",
     "output_type": "stream",
     "text": [
      " 24%|██████████                                | 24/100 [00:04<00:13,  5.67it/s]"
     ]
    },
    {
     "name": "stdout",
     "output_type": "stream",
     "text": [
      "att_plt shape: (1000, 16)\n",
      "att_plt sample: [158 142  95  25 104 235  95 163 107  47 196  10   3  39  12  44]\n",
      "att_plt shape: (1000, 16)\n",
      "att_plt sample: [ 71 189 232 222 229  58  98 248 255  45   5  26 206 180  25 245]\n"
     ]
    },
    {
     "name": "stderr",
     "output_type": "stream",
     "text": [
      " 26%|██████████▉                               | 26/100 [00:04<00:13,  5.33it/s]"
     ]
    },
    {
     "name": "stdout",
     "output_type": "stream",
     "text": [
      "att_plt shape: (1000, 16)\n",
      "att_plt sample: [ 36 135 214  37 114  62 236 149  80  89  65 236  87 234  63 200]\n",
      "att_plt shape: (1000, 16)\n",
      "att_plt sample: [  5 168  28  48  74  99 232 225  27 141  23  82 244 193  23 197]\n"
     ]
    },
    {
     "name": "stderr",
     "output_type": "stream",
     "text": [
      " 28%|███████████▊                              | 28/100 [00:05<00:12,  5.64it/s]"
     ]
    },
    {
     "name": "stdout",
     "output_type": "stream",
     "text": [
      "att_plt shape: (1000, 16)\n",
      "att_plt sample: [215  82 191  39 158 145 227 169 184 253  58 110 167  14 106 136]\n",
      "att_plt shape: (1000, 16)\n",
      "att_plt sample: [101 214  96  94 164 191  50  69  88 240 104   8  29  94   0  69]\n"
     ]
    },
    {
     "name": "stderr",
     "output_type": "stream",
     "text": [
      " 30%|████████████▌                             | 30/100 [00:05<00:12,  5.77it/s]"
     ]
    },
    {
     "name": "stdout",
     "output_type": "stream",
     "text": [
      "att_plt shape: (1000, 16)\n",
      "att_plt sample: [ 72 186  55  61 153  24 146  60 150 125  83 221 151 151  59  27]\n",
      "att_plt shape: (1000, 16)\n",
      "att_plt sample: [126  60 182  15  92  10 101 100  64  84  45  99   6  35 209 189]\n"
     ]
    },
    {
     "name": "stderr",
     "output_type": "stream",
     "text": [
      " 32%|█████████████▍                            | 32/100 [00:05<00:11,  5.89it/s]"
     ]
    },
    {
     "name": "stdout",
     "output_type": "stream",
     "text": [
      "att_plt shape: (1000, 16)\n",
      "att_plt sample: [152 243 207 102  81 121  78 151 215 148 107  33 197 204  15 244]\n",
      "att_plt shape: (1000, 16)\n",
      "att_plt sample: [228 174  33  87 211 171 162 176  18 175 110 173 152   4 133 180]\n"
     ]
    },
    {
     "name": "stderr",
     "output_type": "stream",
     "text": [
      " 34%|██████████████▎                           | 34/100 [00:06<00:11,  5.98it/s]"
     ]
    },
    {
     "name": "stdout",
     "output_type": "stream",
     "text": [
      "att_plt shape: (1000, 16)\n",
      "att_plt sample: [208 135 223  88 223 116  21 173  12 126  68  38  36 246  37 189]\n",
      "att_plt shape: (1000, 16)\n",
      "att_plt sample: [ 10 184 129 182 224   6 114 208  55 135  80 221 229 102 251 231]\n"
     ]
    },
    {
     "name": "stderr",
     "output_type": "stream",
     "text": [
      " 36%|███████████████                           | 36/100 [00:06<00:10,  6.07it/s]"
     ]
    },
    {
     "name": "stdout",
     "output_type": "stream",
     "text": [
      "att_plt shape: (1000, 16)\n",
      "att_plt sample: [233 219  69 180 223  70   7   9 165  95  18 184 183  20 239  84]\n",
      "att_plt shape: (1000, 16)\n",
      "att_plt sample: [ 39 136 160 228  17 157 238  32 170 209  91  31  41 180 155 101]\n"
     ]
    },
    {
     "name": "stderr",
     "output_type": "stream",
     "text": [
      " 38%|███████████████▉                          | 38/100 [00:06<00:10,  6.05it/s]"
     ]
    },
    {
     "name": "stdout",
     "output_type": "stream",
     "text": [
      "att_plt shape: (1000, 16)\n",
      "att_plt sample: [235  96  72 234  79 215  21  43 247 192 196 185  11 205  48 247]\n",
      "att_plt shape: (1000, 16)\n",
      "att_plt sample: [145 102 255  52 110  43   1 189 178 118 155 190   0 233  73 215]\n"
     ]
    },
    {
     "name": "stderr",
     "output_type": "stream",
     "text": [
      " 40%|████████████████▊                         | 40/100 [00:07<00:09,  6.00it/s]"
     ]
    },
    {
     "name": "stdout",
     "output_type": "stream",
     "text": [
      "att_plt shape: (1000, 16)\n",
      "att_plt sample: [ 85 135  52 192  33  87  87  37 108 166  21  38 131 149 157 184]\n",
      "att_plt shape: (1000, 16)\n",
      "att_plt sample: [ 10  88  47 145   9  67  83 182 242 151 188 200 144  91 229  34]\n"
     ]
    },
    {
     "name": "stderr",
     "output_type": "stream",
     "text": [
      " 42%|█████████████████▋                        | 42/100 [00:07<00:09,  5.94it/s]"
     ]
    },
    {
     "name": "stdout",
     "output_type": "stream",
     "text": [
      "att_plt shape: (1000, 16)\n",
      "att_plt sample: [101  43 166  22  37  61  37 242 198  21  54  79 197 116  35 153]\n",
      "att_plt shape: (1000, 16)\n",
      "att_plt sample: [ 36 135 214  37 114  62 236 149  80  89  65 236  87 234  63 200]\n"
     ]
    },
    {
     "name": "stderr",
     "output_type": "stream",
     "text": [
      " 44%|██████████████████▍                       | 44/100 [00:07<00:09,  5.72it/s]"
     ]
    },
    {
     "name": "stdout",
     "output_type": "stream",
     "text": [
      "att_plt shape: (1000, 16)\n",
      "att_plt sample: [109 176  34  57 156 133 146 123 176  88 116  37 198  64  98  75]\n",
      "att_plt shape: (1000, 16)\n",
      "att_plt sample: [ 95 238  49 235  44 235 225 105 116  61 170  82  16 127 119  53]\n"
     ]
    },
    {
     "name": "stderr",
     "output_type": "stream",
     "text": [
      " 46%|███████████████████▎                      | 46/100 [00:08<00:09,  5.82it/s]"
     ]
    },
    {
     "name": "stdout",
     "output_type": "stream",
     "text": [
      "att_plt shape: (1000, 16)\n",
      "att_plt sample: [ 87  83 110  91  73  47 220  61 213 210  17  73 176 235  19  10]\n",
      "att_plt shape: (1000, 16)\n",
      "att_plt sample: [ 16  25 138  10 111  57 231  87 196 193 183  86  88 185 183  56]\n"
     ]
    },
    {
     "name": "stderr",
     "output_type": "stream",
     "text": [
      " 48%|████████████████████▏                     | 48/100 [00:08<00:08,  5.92it/s]"
     ]
    },
    {
     "name": "stdout",
     "output_type": "stream",
     "text": [
      "att_plt shape: (1000, 16)\n",
      "att_plt sample: [215  55 236  89  95 114  11 244   9  80  25  68  75  71  27 170]\n",
      "att_plt shape: (1000, 16)\n",
      "att_plt sample: [  3  62  70  57  99 243  52 232 211 190  18  88 205 139 111 128]\n"
     ]
    },
    {
     "name": "stderr",
     "output_type": "stream",
     "text": [
      " 50%|█████████████████████                     | 50/100 [00:08<00:08,  5.98it/s]"
     ]
    },
    {
     "name": "stdout",
     "output_type": "stream",
     "text": [
      "att_plt shape: (1000, 16)\n",
      "att_plt sample: [223 139  81 131 201 193 220  35   3  73 182  40 218 223  14 175]\n",
      "att_plt shape: (1000, 16)\n",
      "att_plt sample: [ 66 220 229  14 162 100  45   4 136  86 124 117  16  36 172 167]\n"
     ]
    },
    {
     "name": "stderr",
     "output_type": "stream",
     "text": [
      " 52%|█████████████████████▊                    | 52/100 [00:09<00:08,  5.96it/s]"
     ]
    },
    {
     "name": "stdout",
     "output_type": "stream",
     "text": [
      "att_plt shape: (1000, 16)\n",
      "att_plt sample: [ 85  70  30 161 227 163  93 183   6  73 185   9  29 194  51 224]\n",
      "att_plt shape: (1000, 16)\n",
      "att_plt sample: [224 244 156  35 152 218 212 108 125 197  78 106 194   0 196  13]\n"
     ]
    },
    {
     "name": "stderr",
     "output_type": "stream",
     "text": [
      " 54%|██████████████████████▋                   | 54/100 [00:09<00:07,  5.99it/s]"
     ]
    },
    {
     "name": "stdout",
     "output_type": "stream",
     "text": [
      "att_plt shape: (1000, 16)\n",
      "att_plt sample: [ 33  98  15 188 250 179 109 111 245 196 194  71 202  95  28  47]\n",
      "att_plt shape: (1000, 16)\n",
      "att_plt sample: [210 201 123  26  74  41 169 254 155 137  77 131  43  14  95 243]\n"
     ]
    },
    {
     "name": "stderr",
     "output_type": "stream",
     "text": [
      " 56%|███████████████████████▌                  | 56/100 [00:09<00:07,  5.80it/s]"
     ]
    },
    {
     "name": "stdout",
     "output_type": "stream",
     "text": [
      "att_plt shape: (1000, 16)\n",
      "att_plt sample: [192 141 164 221 233  28 169 217 165  49 130 100  55  83  61 157]\n",
      "att_plt shape: (1000, 16)\n",
      "att_plt sample: [204  25 215 146  36 111 191  76 153  27 243 252 201  62 224 153]\n"
     ]
    },
    {
     "name": "stderr",
     "output_type": "stream",
     "text": [
      " 58%|████████████████████████▎                 | 58/100 [00:10<00:07,  5.79it/s]"
     ]
    },
    {
     "name": "stdout",
     "output_type": "stream",
     "text": [
      "att_plt shape: (1000, 16)\n",
      "att_plt sample: [217  74 228  75  31 173  17 252 190  32 221 233  52  95 159 156]\n",
      "att_plt shape: (1000, 16)\n",
      "att_plt sample: [ 72  19  62 245  32 116  73 102  18 132 191  58  57  23 193  28]\n"
     ]
    },
    {
     "name": "stderr",
     "output_type": "stream",
     "text": [
      " 60%|█████████████████████████▏                | 60/100 [00:10<00:06,  5.96it/s]"
     ]
    },
    {
     "name": "stdout",
     "output_type": "stream",
     "text": [
      "att_plt shape: (1000, 16)\n",
      "att_plt sample: [103 233 218  45  11  23  72 103  80  74 180  86 254  23 235 217]\n",
      "att_plt shape: (1000, 16)\n",
      "att_plt sample: [ 14  37  84 233  34  21 203 211 134 129 107  14 151 172 205  72]\n"
     ]
    },
    {
     "name": "stderr",
     "output_type": "stream",
     "text": [
      " 62%|██████████████████████████                | 62/100 [00:10<00:06,  6.03it/s]"
     ]
    },
    {
     "name": "stdout",
     "output_type": "stream",
     "text": [
      "att_plt shape: (1000, 16)\n",
      "att_plt sample: [212  75 229 196 135 210  73 199 112 240  66  46 158 194  75  64]\n",
      "att_plt shape: (1000, 16)\n",
      "att_plt sample: [172 187   6 109 123 225  59  16  14  39 118  53 230 163 119  74]\n"
     ]
    },
    {
     "name": "stderr",
     "output_type": "stream",
     "text": [
      " 64%|██████████████████████████▉               | 64/100 [00:11<00:05,  6.04it/s]"
     ]
    },
    {
     "name": "stdout",
     "output_type": "stream",
     "text": [
      "att_plt shape: (1000, 16)\n",
      "att_plt sample: [ 46   6 189 207 139  89  61   0 170  41 157   3 122 185  73 153]\n",
      "att_plt shape: (1000, 16)\n",
      "att_plt sample: [143  18 248 135  39 249 183   6 249   6   9 197  98 122 116  22]\n"
     ]
    },
    {
     "name": "stderr",
     "output_type": "stream",
     "text": [
      " 66%|███████████████████████████▋              | 66/100 [00:11<00:05,  5.70it/s]"
     ]
    },
    {
     "name": "stdout",
     "output_type": "stream",
     "text": [
      "att_plt shape: (1000, 16)\n",
      "att_plt sample: [ 77  77 227 217 147  18 193 250 155 193  22 135  60 230  55 193]\n",
      "att_plt shape: (1000, 16)\n",
      "att_plt sample: [149 199  12   7  91 166  62 146 237 103   4 117 180 166 216 142]\n"
     ]
    },
    {
     "name": "stderr",
     "output_type": "stream",
     "text": [
      " 68%|████████████████████████████▌             | 68/100 [00:12<00:05,  5.46it/s]"
     ]
    },
    {
     "name": "stdout",
     "output_type": "stream",
     "text": [
      "att_plt shape: (1000, 16)\n",
      "att_plt sample: [251  42 210 151  10 167 184  55  95 247  34 193  63 101  68 219]\n",
      "att_plt shape: (1000, 16)\n",
      "att_plt sample: [ 87  83 110  91  73  47 220  61 213 210  17  73 176 235  19  10]\n"
     ]
    },
    {
     "name": "stderr",
     "output_type": "stream",
     "text": [
      " 70%|█████████████████████████████▍            | 70/100 [00:12<00:05,  5.68it/s]"
     ]
    },
    {
     "name": "stdout",
     "output_type": "stream",
     "text": [
      "att_plt shape: (1000, 16)\n",
      "att_plt sample: [ 25 163 234  68 214 153  23  90  42 249  37 244  96 230  15  27]\n",
      "att_plt shape: (1000, 16)\n",
      "att_plt sample: [248  10   5 240 136 185 135  64 103 183 113 231 132 157  80  27]\n"
     ]
    },
    {
     "name": "stderr",
     "output_type": "stream",
     "text": [
      " 72%|██████████████████████████████▏           | 72/100 [00:12<00:04,  5.86it/s]"
     ]
    },
    {
     "name": "stdout",
     "output_type": "stream",
     "text": [
      "att_plt shape: (1000, 16)\n",
      "att_plt sample: [ 33 223 142  39 117  60  29  13   9 125 254  76  56  24 216  21]\n",
      "att_plt shape: (1000, 16)\n",
      "att_plt sample: [ 40   8 105 243 194 248 191  35 246  15 125  39  62 217  49  18]\n"
     ]
    },
    {
     "name": "stderr",
     "output_type": "stream",
     "text": [
      " 74%|███████████████████████████████           | 74/100 [00:13<00:04,  5.91it/s]"
     ]
    },
    {
     "name": "stdout",
     "output_type": "stream",
     "text": [
      "att_plt shape: (1000, 16)\n",
      "att_plt sample: [ 14  37  84 233  34  21 203 211 134 129 107  14 151 172 205  72]\n",
      "att_plt shape: (1000, 16)\n",
      "att_plt sample: [124 201 141 238 165 106  80  70 160  80  41 192 244  74  60 201]\n"
     ]
    },
    {
     "name": "stderr",
     "output_type": "stream",
     "text": [
      " 76%|███████████████████████████████▉          | 76/100 [00:13<00:04,  5.90it/s]"
     ]
    },
    {
     "name": "stdout",
     "output_type": "stream",
     "text": [
      "att_plt shape: (1000, 16)\n",
      "att_plt sample: [ 50 107 238 160 141 233  72  66 127   8 150 197 242 238  62   0]\n",
      "att_plt shape: (1000, 16)\n",
      "att_plt sample: [211 233 106  29 211 252 192  47 231 204  20 212 116  82  48 251]\n"
     ]
    },
    {
     "name": "stderr",
     "output_type": "stream",
     "text": [
      " 78%|████████████████████████████████▊         | 78/100 [00:13<00:03,  5.91it/s]"
     ]
    },
    {
     "name": "stdout",
     "output_type": "stream",
     "text": [
      "att_plt shape: (1000, 16)\n",
      "att_plt sample: [ 15 154 117 107 163 247 178 208 229 114 140  98  44 149  25 204]\n",
      "att_plt shape: (1000, 16)\n",
      "att_plt sample: [ 95 130  45 117  61 246  18 134 171 209 230 146  90 182  28 254]\n"
     ]
    },
    {
     "name": "stderr",
     "output_type": "stream",
     "text": [
      " 80%|█████████████████████████████████▌        | 80/100 [00:14<00:03,  5.97it/s]"
     ]
    },
    {
     "name": "stdout",
     "output_type": "stream",
     "text": [
      "att_plt shape: (1000, 16)\n",
      "att_plt sample: [240 173  37 251 183  42  28 156 244 169  35 188 147 206 251  24]\n",
      "att_plt shape: (1000, 16)\n",
      "att_plt sample: [156 107 244 237 118 131  53 178 247 189  89 191 210  33  35 201]\n"
     ]
    },
    {
     "name": "stderr",
     "output_type": "stream",
     "text": [
      " 82%|██████████████████████████████████▍       | 82/100 [00:14<00:02,  6.03it/s]"
     ]
    },
    {
     "name": "stdout",
     "output_type": "stream",
     "text": [
      "att_plt shape: (1000, 16)\n",
      "att_plt sample: [122  17 161 215 143 224  10  20 178 117 133 177   5  66 218  13]\n",
      "att_plt shape: (1000, 16)\n",
      "att_plt sample: [119  50  37  43 129 223  51  50  69 216 241 149 105  31  26 202]\n"
     ]
    },
    {
     "name": "stderr",
     "output_type": "stream",
     "text": [
      " 84%|███████████████████████████████████▎      | 84/100 [00:14<00:02,  5.71it/s]"
     ]
    },
    {
     "name": "stdout",
     "output_type": "stream",
     "text": [
      "att_plt shape: (1000, 16)\n",
      "att_plt sample: [ 77  46  68  30 191 157 235  74 165 137 240 244 216 146 158 123]\n",
      "att_plt shape: (1000, 16)\n",
      "att_plt sample: [194 143  72 235  50  65  29  46 124 251  28 150 245  70 136   3]\n"
     ]
    },
    {
     "name": "stderr",
     "output_type": "stream",
     "text": [
      " 86%|████████████████████████████████████      | 86/100 [00:15<00:02,  5.83it/s]"
     ]
    },
    {
     "name": "stdout",
     "output_type": "stream",
     "text": [
      "att_plt shape: (1000, 16)\n",
      "att_plt sample: [201 233 200 193 122  94 176 179 207  41 102 237  53 153 117 248]\n",
      "att_plt shape: (1000, 16)\n",
      "att_plt sample: [148 250 187 168  41 209 108 246 134  28 215 192 197 237  65 144]\n"
     ]
    },
    {
     "name": "stderr",
     "output_type": "stream",
     "text": [
      " 88%|████████████████████████████████████▉     | 88/100 [00:15<00:02,  5.75it/s]"
     ]
    },
    {
     "name": "stdout",
     "output_type": "stream",
     "text": [
      "att_plt shape: (1000, 16)\n",
      "att_plt sample: [148  70 216 158  36 197 128 115  46 205 129  86   2  46 139 121]\n",
      "att_plt shape: (1000, 16)\n",
      "att_plt sample: [120  54 250  84 147  28 230   7 246   4  31  16 130 202  67 225]\n"
     ]
    },
    {
     "name": "stderr",
     "output_type": "stream",
     "text": [
      " 90%|█████████████████████████████████████▊    | 90/100 [00:15<00:01,  5.85it/s]"
     ]
    },
    {
     "name": "stdout",
     "output_type": "stream",
     "text": [
      "att_plt shape: (1000, 16)\n",
      "att_plt sample: [235 226 253  78  54  85 131  52 166  29 159 163  93  48  58 175]\n",
      "att_plt shape: (1000, 16)\n",
      "att_plt sample: [171  70 175  45  40 139 249  90 235  10 170  14  33  20  71 129]\n"
     ]
    },
    {
     "name": "stderr",
     "output_type": "stream",
     "text": [
      " 92%|██████████████████████████████████████▋   | 92/100 [00:16<00:01,  5.83it/s]"
     ]
    },
    {
     "name": "stdout",
     "output_type": "stream",
     "text": [
      "att_plt shape: (1000, 16)\n",
      "att_plt sample: [185 129 133  90  21 120 166 225 238 112 164 228   6 219 246 179]\n",
      "att_plt shape: (1000, 16)\n",
      "att_plt sample: [173  50 124  67 171 239  37 208 221 173  34  39  19 188  62 187]\n"
     ]
    },
    {
     "name": "stderr",
     "output_type": "stream",
     "text": [
      " 94%|███████████████████████████████████████▍  | 94/100 [00:16<00:01,  5.88it/s]"
     ]
    },
    {
     "name": "stdout",
     "output_type": "stream",
     "text": [
      "att_plt shape: (1000, 16)\n",
      "att_plt sample: [140  73   8   9 243  32 221 226 207   4 100   6 233  56 189  86]\n",
      "att_plt shape: (1000, 16)\n",
      "att_plt sample: [173  95 172 206  99  57 184 252  27 130 181 151 216  14 168 151]\n"
     ]
    },
    {
     "name": "stderr",
     "output_type": "stream",
     "text": [
      " 96%|████████████████████████████████████████▎ | 96/100 [00:16<00:00,  5.89it/s]"
     ]
    },
    {
     "name": "stdout",
     "output_type": "stream",
     "text": [
      "att_plt shape: (1000, 16)\n",
      "att_plt sample: [160 253  33 225 111  54  37 228  59  32  19 194 209 137 159   2]\n",
      "att_plt shape: (1000, 16)\n",
      "att_plt sample: [236 145 238 149 139 115  70 138 101 188 250  94  73 203  58  72]\n"
     ]
    },
    {
     "name": "stderr",
     "output_type": "stream",
     "text": [
      " 98%|█████████████████████████████████████████▏| 98/100 [00:17<00:00,  5.84it/s]"
     ]
    },
    {
     "name": "stdout",
     "output_type": "stream",
     "text": [
      "att_plt shape: (1000, 16)\n",
      "att_plt sample: [  4  99 113  73 209 196 174 137  55  93 187 119 123 228  11 160]\n",
      "att_plt shape: (1000, 16)\n",
      "att_plt sample: [ 15  68 242  72 225 153  91 133 133 145  68  75  84 192 104  24]\n"
     ]
    },
    {
     "name": "stderr",
     "output_type": "stream",
     "text": [
      "100%|█████████████████████████████████████████| 100/100 [00:17<00:00,  5.73it/s]\n",
      "No artists with labels found to put in legend.  Note that artists whose label start with an underscore are ignored when legend() is called with no argument.\n"
     ]
    },
    {
     "name": "stdout",
     "output_type": "stream",
     "text": [
      "att_plt shape: (1000, 16)\n",
      "att_plt sample: [ 56 239   7 241  11 123 134  54  56  10 204 216 144 200   9 149]\n",
      "GE [120.3  122.96 120.42 124.01 118.9  115.16 116.12 114.28 113.22 116.41\n",
      " 117.28 117.4  121.53 118.22 115.12 114.29 114.64 116.23 116.66 118.84\n",
      " 120.15 118.96 118.28 118.86 119.91 120.77 122.55 122.15 120.63 118.96\n",
      " 119.11 117.94 117.26 115.66 116.04 116.77 118.69 120.36 117.94 116.89\n",
      " 115.96 117.65 119.57 119.63 118.96 119.1  120.53 118.57 120.09 119.25\n",
      " 117.67 117.69 119.1  119.29 120.56 119.46 120.04 117.83 116.98 117.01\n",
      " 115.09 115.   116.16 115.1  114.38 113.5  113.66 115.91 116.41 116.7\n",
      " 115.67 115.91 117.99 117.52 118.09 117.31 116.9  116.57 116.46 116.18\n",
      " 115.39 115.92 115.93 114.93 114.85 114.41 115.34 116.54 116.61 113.5\n",
      " 112.77 111.17 109.87 110.4  110.   109.22 109.8  109.48 109.53 108.45\n",
      " 108.33 106.73 108.   107.6  107.55 107.37 106.49 105.16 105.16 105.42\n",
      " 104.1  104.21 104.85 105.7  104.95 104.13 104.7  104.46 104.71 104.43\n",
      " 104.94 105.25 105.77 104.75 104.9  104.84 105.27 106.03 104.41 103.23\n",
      " 104.27 103.59 102.98 102.93 101.38 100.94 102.3  102.53 101.85 101.73\n",
      " 101.35 101.72 102.46 101.42 102.48 102.25 101.48 101.65 102.22 102.24\n",
      " 101.86 102.17 101.89 102.07 102.66 102.5  101.99 101.92 103.33 103.28\n",
      " 102.72 103.64 102.79 102.62 102.43 102.95 101.37 101.43 101.03 100.15\n",
      " 100.21 100.11  99.64  99.63  99.68  98.75  98.58 100.31 100.41 100.42\n",
      "  99.37  99.73  99.23  99.29  99.16  97.68  97.76  99.01  99.08  98.89\n",
      "  98.58  97.81  97.52  96.08  96.11  95.88  95.59  96.93  96.22  96.54\n",
      "  97.74  97.23  96.68  96.91  97.07  97.8   96.78  96.01  95.58  95.65\n",
      "  95.78  95.5   95.53  96.69  96.45  97.14  96.54  95.8   95.5   95.8\n",
      "  95.52  95.89  95.38  95.72  96.32  96.05  96.36  96.    95.94  96.53\n",
      "  96.46  97.22  96.88  97.21  97.45  98.22  97.37  96.77  96.34  96.82\n",
      "  96.96  96.28  96.88  96.71  96.28  96.33  96.87  96.54  97.66  97.64\n",
      "  97.77  98.12  97.67  97.08  97.41  97.81  98.21  98.65  98.58  97.84\n",
      "  97.32  97.1   96.34  96.02  95.86  96.63  96.83  96.83  96.46  96.47\n",
      "  97.72  98.13  98.01  98.24  99.35  99.11  99.53  99.06  99.84  99.64\n",
      "  99.79  99.67 100.23 100.45 100.03 101.15 101.31 101.05 101.73 101.24\n",
      " 101.47 101.45 100.82 100.96 100.83 101.28 101.21 100.39 100.22 100.07\n",
      " 100.14  99.83  99.73  99.36  98.86  98.67  98.48  98.07  97.91  97.67\n",
      "  97.44  97.03  97.56  97.36  96.63  95.67  95.52  95.84  96.65  96.45\n",
      "  96.41  95.73  96.18  95.68  96.14  95.4   96.18  96.51  96.83  96.12\n",
      "  96.42  96.18  96.75  96.31  96.27  96.19  96.69  97.24  96.63  95.83\n",
      "  95.45  95.32  95.38  95.6   94.34  94.18  94.76  93.73  93.76  93.35\n",
      "  93.74  93.49  93.47  93.69  93.35  93.31  93.37  93.45  92.61  92.77\n",
      "  92.94  92.75  92.11  92.41  92.93  92.96  93.47  92.98  94.    94.87\n",
      "  94.95  95.3   95.54  95.1   95.    94.14  94.44  94.04  95.04  94.4\n",
      "  94.89  94.35  93.91  94.18  93.52  93.14  93.58  94.29  93.91  93.78\n",
      "  93.69  94.45  94.7   95.24  95.16  95.04  94.93  94.43  94.49  94.83\n",
      "  94.81  94.43  94.63  95.35  95.57  95.94  96.8   96.25  95.87  95.38\n",
      "  95.1   95.48  94.69  94.69  94.3   94.12  93.63  93.25  92.84  92.87\n",
      "  93.47  93.45  92.68  92.77  92.83  92.96  92.75  93.37  93.6   93.12\n",
      "  92.58  92.22  92.27  92.23  92.51  92.27  92.62  92.73  92.65  93.08\n",
      "  92.86  93.81  94.    94.54  93.62  93.96  94.65  94.57  95.1   94.76\n",
      "  94.71  93.76  94.08  94.27  94.68  95.16  94.74  94.36  94.49  94.76\n",
      "  94.98  94.91  94.03  93.57  94.47  94.21  93.46  93.85  93.7   93.31\n",
      "  93.24  93.35  93.03  93.47  93.52  94.42  94.9   94.68  95.62  95.41\n",
      "  95.9   95.6   95.51  95.36  95.28  95.62  95.57  95.25  94.69  94.69\n",
      "  95.4   95.26  95.74  95.36  95.28  94.79  94.71  94.78  95.3   95.23\n",
      "  95.22  94.49  94.1   94.38  93.51  93.41  93.21  93.39  93.78  93.75\n",
      "  93.38  93.68  93.59  93.57  93.56  94.1   93.95  93.66  94.04  93.74\n",
      "  94.16  94.58  94.54  94.88  94.55  94.21  93.5   93.    93.12  93.1\n",
      "  92.72  91.9   91.97  91.67  91.61  90.67  90.29  90.33  90.67  91.25\n",
      "  92.05  92.4   91.53  91.55  91.76  92.1   91.81  92.03  91.96  91.73\n",
      "  92.44  93.48  93.57  93.49  93.9   93.7   93.57  94.19  94.46  93.89\n",
      "  94.04  94.27  93.58  93.54  93.32  93.48  93.17  93.6   93.99  94.37\n",
      "  94.12  93.37  93.28  93.08  93.78  94.2   94.55  95.34  95.25  95.31\n",
      "  95.53  95.31  95.26  96.09  95.4   95.58  95.86  95.7   95.44  95.33\n",
      "  95.86  96.49  97.44  97.45  97.13  97.86  97.23  96.96  97.01  97.19\n",
      "  97.15  97.02  96.77  96.78  96.78  96.67  96.24  96.52  96.16  95.83\n",
      "  95.73  96.03  96.13  96.05  96.2   96.1   96.15  96.01  95.38  95.16\n",
      "  95.06  95.27  95.14  95.78  96.35  95.82  96.08  95.9   95.28  95.85\n",
      "  96.2   96.13  96.71  96.54  96.09  95.84  96.17  95.91  96.07  96.02\n",
      "  95.65  95.49  94.67  94.68  94.42  94.02  94.33  93.95  94.17  93.92\n",
      "  93.69  93.64  93.3   93.33  93.18  93.41  93.61  93.2   92.47  92.41\n",
      "  92.36  92.51  92.1   92.02  91.78  91.41  91.21  91.18  91.24  92.06\n",
      "  91.79  91.77  91.63  91.87  91.92  92.07  92.22  91.97  91.46  91.89\n",
      "  91.51  91.02  90.98  91.07  91.72  91.98  92.12  91.95  92.21  92.35\n",
      "  92.36  93.07  93.06  93.18  92.98  94.13  93.86  94.3   94.64  94.91\n",
      "  95.02  94.87  95.04  95.01  95.68  96.03  95.75  95.8   95.46  95.16\n",
      "  94.53  95.04  95.31  95.1   95.36  95.04  95.    94.66  94.61  94.4\n",
      "  94.64  94.83  94.97  94.36  95.01  95.14  95.19  95.12  94.78  94.68\n",
      "  94.29  94.01  93.91  93.98  94.28  93.68  93.52  94.1   94.46  95.\n",
      "  94.63  94.89  94.6   94.31  94.64  94.21  93.56  94.21  94.62  94.51\n",
      "  94.69  94.61  95.03  94.87  94.59  94.31  94.43  94.24  94.07  94.06\n",
      "  93.63  93.76  93.52  93.83  93.52  93.66  93.12  93.67  93.44  93.35\n",
      "  93.08  93.43  93.23  92.71  92.83  92.57  91.94  91.83  91.81  91.92\n",
      "  92.43  92.52  92.03  92.06  91.8   92.05  91.92  91.95  92.07  91.88\n",
      "  91.6   91.85  91.75  90.85  91.15  90.55  89.69  89.34  89.57  89.39\n",
      "  89.82  89.84  89.86  89.93  89.42  89.49  89.7   90.11  90.02  89.9\n",
      "  90.25  89.85  90.19  89.98  89.93  90.54  90.44  90.27  89.82  89.65\n",
      "  89.85  90.25  90.06  90.14  89.66  89.9   89.6   89.54  89.65  89.76\n",
      "  89.6   90.29  89.98  89.8   89.51  89.86  89.62  89.75  89.98  89.84\n",
      "  89.56  89.83  90.29  90.64  90.63  90.33  90.13  89.74  89.92  89.37\n",
      "  89.62  89.26  89.27  89.65  90.58  90.02  89.92  89.96  89.91  90.69\n",
      "  90.41  90.76  90.78  89.94  89.76  89.69  89.16  89.07  88.66  88.69\n",
      "  88.86  88.66  88.64  88.66  89.23  89.08  88.07  88.22  87.85  88.12\n",
      "  88.13  88.4   88.07  87.81  87.99  87.65  87.41  87.55  87.48  87.63\n",
      "  87.75  87.78  87.49  87.35  87.22  87.22  87.6   87.38  87.28  87.08\n",
      "  87.01  87.24  86.97  87.34  87.55  88.02  87.89  87.67  87.33  87.17\n",
      "  87.13  87.34  87.6   87.64  87.32  87.19  87.19  86.89  86.96  87.47\n",
      "  87.17  87.11  86.92  87.    86.89  86.91  87.05  87.38  87.06  86.99\n",
      "  87.01  86.71  86.59  86.23  86.01  86.11  86.44  86.18  86.43  86.41\n",
      "  86.47  86.5   86.61  86.73  86.39  86.08  86.43  86.25  85.84  85.86\n",
      "  86.13  85.86  85.96  85.24  85.02  84.82  84.85  84.95  84.69  84.89\n",
      "  85.38  85.1   85.    85.17  85.21  85.51  85.35  85.17  85.3   85.41\n",
      "  85.32  85.43  85.7   86.    85.87  85.55  85.83  85.73  85.76  85.38\n",
      "  85.36  85.33  85.43  85.05  84.81  84.73  85.11  85.37  85.56  85.46\n",
      "  85.35  85.19  85.13  85.28  85.14  85.07  84.72  84.62  84.32  84.98]\n",
      "NTGE 999\n"
     ]
    },
    {
     "data": {
      "image/png": "[encoded data removed]",
      "text/plain": [
       "<Figure size 640x480 with 1 Axes>"
      ]
     },
     "metadata": {},
     "output_type": "display_data"
    },
    {
     "name": "stderr",
     "output_type": "stream",
     "text": [
      "  0%|                                                   | 0/256 [00:00<?, ?it/s]/home/localuserplr/.local/lib/python3.10/site-packages/numpy/lib/function_base.py:2897: RuntimeWarning: invalid value encountered in divide\n",
      "  c /= stddev[:, None]\n",
      "/home/localuserplr/.local/lib/python3.10/site-packages/numpy/lib/function_base.py:2898: RuntimeWarning: invalid value encountered in divide\n",
      "  c /= stddev[None, :]\n",
      "100%|█████████████████████████████████████████| 256/256 [01:41<00:00,  2.51it/s]\n"
     ]
    },
    {
     "data": {
      "image/png": "[encoded data removed]",
      "text/plain": [
       "<Figure size 1000x800 with 1 Axes>"
      ]
     },
     "metadata": {},
     "output_type": "display_data"
    }
   ],
   "source": [
    "# Perform attacks and calculate Guessing Entropy (GE)\n",
    "def perform_attacks(nb_traces=1000, predictions=predictions, plt_attack=plaintexts_attack, correct_key=None, leakage=\"HW\", dataset=None, nb_attacks=100, shuffle=True):\n",
    "    all_rk_evol = np.zeros((nb_attacks, nb_traces)) #(num_attack, num_traces used)\n",
    "    all_key_log_prob = np.zeros(256)\n",
    "    for i in tqdm(range(nb_attacks)):\n",
    "        if shuffle:\n",
    "            l = list(zip(predictions, plt_attack)) #list of [prediction, plaintext_attack]\n",
    "            random.shuffle(l) #shuffle the each other prediction\n",
    "            sp, splt = list(zip(*l)) #*l = unpacking, output: shuffled predictions and shuffled plaintext.\n",
    "            sp = np.array(sp)\n",
    "            splt = np.array(splt)\n",
    "            att_pred = sp[:nb_traces] #just use the required number of traces\n",
    "            att_plt = splt[:nb_traces]\n",
    "        else:\n",
    "            att_pred = predictions[:nb_traces]\n",
    "            att_plt = plt_attack[:nb_traces]\n",
    "\n",
    "        # Debugging information\n",
    "        print(\"att_plt shape:\", att_plt.shape)\n",
    "        print(\"att_plt sample:\", att_plt[0])\n",
    "\n",
    "        rank_evol, key_log_prob = rank_compute(att_pred, att_plt, correct_key, leakage=leakage, dataset=dataset)\n",
    "        all_rk_evol[i] = rank_evol\n",
    "        all_key_log_prob += key_log_prob\n",
    "    return np.mean(all_rk_evol, axis=0), key_log_prob\n",
    "\n",
    "def rank_compute(prediction, att_plt, correct_key, leakage, dataset):\n",
    "    hw = [bin(x).count(\"1\") for x in range(256)]\n",
    "    (nb_traces, nb_hyp) = prediction.shape\n",
    "    key_log_prob = np.zeros(256)\n",
    "    prediction = np.log(prediction + 1e-40)\n",
    "    rank_evol = np.full(nb_traces, 255)\n",
    "    for i in range(nb_traces):\n",
    "        for k in range(256):\n",
    "            att_byte = int(att_plt[i, 0])  # Use the first byte of the plaintext\n",
    "            if dataset == \"AES_HD_ext\":\n",
    "                if leakage == 'ID':\n",
    "                    key_log_prob[k] += prediction[i, AES_Sbox_inv[k ^ att_byte] ^ att_byte]\n",
    "                else:\n",
    "                    key_log_prob[k] += prediction[i, hw[AES_Sbox_inv[k ^ att_byte] ^ att_byte]]\n",
    "            elif dataset == \"AES_HD_ext_ID\":\n",
    "                if leakage == 'ID':\n",
    "                    key_log_prob[k] += prediction[i, AES_Sbox_inv[k ^ att_byte]]\n",
    "                else:\n",
    "                    key_log_prob[k] += prediction[i, hw[AES_Sbox_inv[k ^ att_byte]]]\n",
    "            else:\n",
    "                if leakage == 'ID':\n",
    "                    key_log_prob[k] += prediction[i, AES_Sbox[k ^ att_byte]]\n",
    "                else:\n",
    "                    key_log_prob[k] += prediction[i, hw[AES_Sbox[k ^ att_byte]]]\n",
    "        rank_evol[i] = rk_key(key_log_prob, correct_key)\n",
    "    return rank_evol, key_log_prob\n",
    "\n",
    "def rk_key(rank_array, key):\n",
    "    key_val = rank_array[key]\n",
    "    final_rank = np.float32(np.where(np.sort(rank_array)[::-1] == key_val)[0][0])\n",
    "    if math.isnan(float(final_rank)) or math.isinf(float(final_rank)):\n",
    "        return np.float32(256)\n",
    "    else:\n",
    "        return np.float32(final_rank)\n",
    "\n",
    "def NTGE_fn(GE):\n",
    "    # Start with infinity as the default\n",
    "    NTGE = float('inf')\n",
    "    # Iterate from the last index to the first\n",
    "    for i in range(GE.shape[0] - 1, -1, -1):\n",
    "        if GE[i] > 0:\n",
    "            NTGE = i  # Set NTGE to the current index if condition is met\n",
    "            break  # Exit the loop once condition is met\n",
    "    return NTGE\n",
    "\n",
    "nb_traces = 1000\n",
    "GE, key_prob = perform_attacks(nb_traces, predictions=predictions, plt_attack=plaintexts_attack, correct_key=0x2B, leakage=leakage, dataset=None, nb_attacks=100, shuffle=True)\n",
    "NTGE = NTGE_fn(GE)\n",
    "print(\"GE\", GE)\n",
    "print(\"NTGE\", NTGE)\n",
    "plt.plot(GE)\n",
    "plt.title('Entropy vs Number of Traces')\n",
    "plt.xlabel('Number of traces')\n",
    "plt.ylabel('Guessing Entropy')\n",
    "plt.legend()\n",
    "plt.grid(True)\n",
    "plt.show()\n",
    "\n",
    "# CPA Analysis and Plotting\n",
    "def aes_label_cpa(plaintexts, correct_key, leakage):\n",
    "    num_traces = plaintexts.shape[0]\n",
    "    labels_for_snr = np.zeros(num_traces)\n",
    "    for i in range(num_traces):\n",
    "        if leakage == 'HW':\n",
    "            labels_for_snr[i] = HW(AES_Sbox[plaintexts[i, 0] ^ correct_key])  # Use the first byte of the plaintext\n",
    "        elif leakage == 'ID':\n",
    "            labels_for_snr[i] = AES_Sbox[plaintexts[i, 0] ^ correct_key]  # Use the first byte of the plaintext\n",
    "    return labels_for_snr\n",
    "\n",
    "def perform_cpa_all_keys(traces, plaintexts, num_keys=256):\n",
    "    num_traces, num_samples = traces.shape\n",
    "    correlations = np.zeros((num_keys, num_samples))\n",
    "    for key_guess in tqdm(range(num_keys)):\n",
    "        labels_for_cpa = aes_label_cpa(plaintexts, key_guess, leakage)\n",
    "        for t in range(num_samples):\n",
    "            correlations[key_guess, t] = abs(np.corrcoef(labels_for_cpa[:num_traces], traces[:, t])[1, 0])\n",
    "    return correlations\n",
    "\n",
    "def plot_correlations(correlations, correct_key):\n",
    "    num_keys, num_samples = correlations.shape\n",
    "    plt.figure(figsize=(10, 8))\n",
    "    for key_guess in range(num_keys):\n",
    "        if key_guess != correct_key:\n",
    "            plt.plot(correlations[key_guess], color='grey', label='Other Keys' if 'Other Keys' not in plt.gca().get_legend_handles_labels()[1] else \"\", alpha=0.5, linewidth=1)\n",
    "    plt.plot(correlations[correct_key], color='blue', label=f'Correct Key: {correct_key:02X}', linewidth=2)\n",
    "    plt.title('Correlation Power Analysis Across All Key Guesses')\n",
    "    plt.xlabel('Sample Points')\n",
    "    plt.ylabel('Absolute Correlation')\n",
    "    plt.grid(True)\n",
    "    plt.legend(loc='upper right')\n",
    "    plt.show()\n",
    "\n",
    "# Perform CPA on the attack set\n",
    "correlations = perform_cpa_all_keys(X_attack.squeeze(), plaintexts_attack, num_keys=256)\n",
    "plot_correlations(correlations, correct_key=0x2B)"
   ]
  },
  {
   "cell_type": "code",
   "execution_count": null,
   "id": "bb276ae5-aa41-4552-9681-29026ce55dfa",
   "metadata": {},
   "outputs": [],
   "source": []
  }
 ],
 "metadata": {
  "kernelspec": {
   "display_name": "Python 3 (ipykernel)",
   "language": "python",
   "name": "python3"
  },
  "language_info": {
   "codemirror_mode": {
    "name": "ipython",
    "version": 3
   },
   "file_extension": ".py",
   "mimetype": "text/x-python",
   "name": "python",
   "nbconvert_exporter": "python",
   "pygments_lexer": "ipython3",
   "version": "3.10.12"
  }
 },
 "nbformat": 4,
 "nbformat_minor": 5
}
